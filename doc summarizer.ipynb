{
 "cells": [
  {
   "cell_type": "code",
   "execution_count": 1,
   "id": "a1f7cbd9",
   "metadata": {},
   "outputs": [
    {
     "name": "stdout",
     "output_type": "stream",
     "text": [
      "Tendulkar took up cricket at the age of eleven, made his Test match debut on 15 November 1989 against Pakistan in Karachi at the age of sixteen, and went on to represent Mumbai domestically and India internationally for over 24 years.In 2002, halfway through his career, Wisden ranked him the second-greatest Test batsman of all time, behind Don Bradman, and the second-greatest ODI batsman of all time, behind Viv Richards.The same year, Tendulkar was a part of the team that was one of the joint-winners of the 2002 ICC Champions Trophy.\n",
      "\n"
     ]
    },
    {
     "name": "stderr",
     "output_type": "stream",
     "text": [
      "[nltk_data] Downloading package stopwords to\n",
      "[nltk_data]     C:\\Users\\bharg\\AppData\\Roaming\\nltk_data...\n",
      "[nltk_data]   Package stopwords is already up-to-date!\n"
     ]
    }
   ],
   "source": [
    "from nltk.corpus import stopwords\n",
    "from nltk.tokenize import word_tokenize, sent_tokenize\n",
    "import nltk\n",
    "\n",
    "nltk.download('stopwords')\n",
    "\n",
    "text = \"\"\"SachinRameshTendulkar is born on 24 April 1973, is an Indian former international cricketer who captained the Indian national team. He is widely regarded as one of the greatest batsmen in the history of cricket.Hailed as the world's most prolific batsman of all time, he is the all-time highest run-scorer in both ODI and Test cricket with more than 18,000 runs and 15,000 runs, respectively.He also holds the record for receiving the most player of the match awards in international cricket.Tendulkar was a Member of Parliament, Rajya Sabha by presidential nomination from 2012 to 2018.\n",
    "\n",
    "Tendulkar took up cricket at the age of eleven, made his Test match debut on 15 November 1989 against Pakistan in Karachi at the age of sixteen, and went on to represent Mumbai domestically and India internationally for over 24 years.In 2002, halfway through his career, Wisden ranked him the second-greatest Test batsman of all time, behind Don Bradman, and the second-greatest ODI batsman of all time, behind Viv Richards.The same year, Tendulkar was a part of the team that was one of the joint-winners of the 2002 ICC Champions Trophy. Indian team that won the 2011 Cricket World Cup, his first win in six World Cup appearances for India.\"\"\"\n",
    "\n",
    "\n",
    "words = word_tokenize(text.lower())\n",
    "\n",
    "\n",
    "stopwords_set = set(stopwords.words(\"english\"))\n",
    "words = [word for word in words if word not in stopwords_set]\n",
    "\n",
    "\n",
    "word_freq = {}\n",
    "for word in words:\n",
    "    if word in word_freq:\n",
    "        word_freq[word] += 1\n",
    "    else:\n",
    "        word_freq[word] = 1\n",
    "\n",
    "\n",
    "sentences = sent_tokenize(text)\n",
    "\n",
    "\n",
    "sentence_scores = {}\n",
    "for sentence in sentences:\n",
    "    sentence_words = word_tokenize(sentence.lower())\n",
    "    sentence_score = sum(word_freq[word] for word in sentence_words if word in word_freq)\n",
    "    sentence_scores[sentence] = sentence_score\n",
    "\n",
    "\n",
    "average_score = sum(sentence_scores.values()) / len(sentence_scores)\n",
    "\n",
    "\n",
    "summary = \"\"\n",
    "for sentence, score in sentence_scores.items():\n",
    "    if score > 1.2 * average_score:\n",
    "        summary += sentence + \"\\n\"\n",
    "\n",
    "print(summary)"
   ]
  },
  {
   "cell_type": "code",
   "execution_count": null,
   "id": "ad492dd2",
   "metadata": {},
   "outputs": [],
   "source": []
  }
 ],
 "metadata": {
  "kernelspec": {
   "display_name": "Python 3 (ipykernel)",
   "language": "python",
   "name": "python3"
  },
  "language_info": {
   "codemirror_mode": {
    "name": "ipython",
    "version": 3
   },
   "file_extension": ".py",
   "mimetype": "text/x-python",
   "name": "python",
   "nbconvert_exporter": "python",
   "pygments_lexer": "ipython3",
   "version": "3.11.5"
  }
 },
 "nbformat": 4,
 "nbformat_minor": 5
}
